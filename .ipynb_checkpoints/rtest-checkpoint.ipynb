{
 "cells": [
  {
   "cell_type": "code",
   "execution_count": 2,
   "metadata": {},
   "outputs": [],
   "source": [
    "#in chemiometrics, loads and scores are used conventionally instead of eigevnalues and vectors\n",
    "#model$eigenvals = \n",
    "#         c(model$eigenvals, svd(x.cal - tcrossprod(res$scores, res$loadings))$d^2/(nrows - 1))\n",
    "# s = svd(x)\n",
    "#   loadings = s$v[, 1:ncomp, drop = F]\n",
    "\n",
    "# scores  = x %*% loadings\n",
    "\n",
    "\n",
    "# NOT RUN {\n",
    "#hilbert <- function(n) { i <- 1:n; 1 / outer(i - 1, i, \"+\") }\n",
    "#X <- hilbert(9)[, 1:6]\n",
    "#(s <- svd(X))\n",
    "#D <- diag(s$d)\n",
    "#s$u %*% D %*% t(s$v) #  X = U D V'\n",
    "#t(s$u) %*% X %*% s$v #  D = U' X V\n",
    "# }"
   ]
  },
  {
   "cell_type": "code",
   "execution_count": 3,
   "metadata": {},
   "outputs": [],
   "source": [
    "from numpy.linalg import svd\n"
   ]
  },
  {
   "cell_type": "code",
   "execution_count": 4,
   "metadata": {},
   "outputs": [],
   "source": [
    "X = [1/(i + (i-1)) for i in range(1,9+1,1)]\n",
    "\n",
    "\n"
   ]
  },
  {
   "cell_type": "code",
   "execution_count": 5,
   "metadata": {},
   "outputs": [],
   "source": [
    "X = [[1.0000000, 0.5000000, 0.33333333, 0.25000000, 0.20000000, 0.16666667],\n",
    "[0.5000000, 0.3333333, 0.25000000, 0.20000000, 0.16666667, 0.14285714],\n",
    "[0.3333333, 0.2500000, 0.20000000, 0.16666667, 0.14285714, 0.12500000],\n",
    "[0.2500000, 0.2000000, 0.16666667, 0.14285714, 0.12500000, 0.11111111],\n",
    "[0.2000000, 0.1666667, 0.14285714, 0.12500000, 0.11111111, 0.10000000],\n",
    "[0.1666667, 0.1428571, 0.12500000, 0.11111111, 0.10000000, 0.09090909],\n",
    "[0.1428571, 0.1250000, 0.11111111, 0.10000000, 0.09090909, 0.08333333],\n",
    "[0.1250000, 0.1111111, 0.10000000, 0.09090909, 0.08333333, 0.07692308],\n",
    "[0.1111111, 0.1000000, 0.09090909, 0.08333333, 0.07692308, 0.07142857]]\n",
    "\n"
   ]
  },
  {
   "cell_type": "code",
   "execution_count": 9,
   "metadata": {},
   "outputs": [],
   "source": [
    "import numpy as np\n",
    "X = np.array(X)"
   ]
  },
  {
   "cell_type": "code",
   "execution_count": 10,
   "metadata": {},
   "outputs": [],
   "source": [
    "import numpy as np\n",
    "X = np.matrix(X)"
   ]
  },
  {
   "cell_type": "code",
   "execution_count": 11,
   "metadata": {},
   "outputs": [
    {
     "name": "stdout",
     "output_type": "stream",
     "text": [
      "[1.66843318e+00 2.77372685e-01 2.22372135e-02 1.08467920e-03\n",
      " 3.24363793e-05 5.18867569e-07]\n"
     ]
    }
   ],
   "source": [
    "u, s, vh = svd(X)\n",
    "print(s) # 1.668433e+00 2.773727e-01 2.223722e-02 1.084693e-03 3.243788e-05"
   ]
  },
  {
   "cell_type": "code",
   "execution_count": 12,
   "metadata": {},
   "outputs": [],
   "source": [
    "d = np.diag(s)"
   ]
  },
  {
   "cell_type": "code",
   "execution_count": 13,
   "metadata": {},
   "outputs": [
    {
     "data": {
      "text/plain": [
       "((9, 6), (9, 9), (6,), (6, 6))"
      ]
     },
     "execution_count": 13,
     "metadata": {},
     "output_type": "execute_result"
    }
   ],
   "source": [
    "X.shape, u.shape, s.shape, vh.shape"
   ]
  },
  {
   "cell_type": "code",
   "execution_count": 14,
   "metadata": {},
   "outputs": [],
   "source": [
    "smat = np.zeros((9, 6), dtype=complex)\n",
    "smat[:6, :6] = np.diag(s)\n",
    "X1 = np.dot(u, np.dot(smat, vh))"
   ]
  },
  {
   "cell_type": "code",
   "execution_count": 15,
   "metadata": {},
   "outputs": [
    {
     "data": {
      "text/plain": [
       "matrix([[1.        +0.j, 0.5       +0.j, 0.33333333+0.j, 0.25      +0.j,\n",
       "         0.2       +0.j, 0.16666667+0.j],\n",
       "        [0.5       +0.j, 0.3333333 +0.j, 0.25      +0.j, 0.2       +0.j,\n",
       "         0.16666667+0.j, 0.14285714+0.j],\n",
       "        [0.3333333 +0.j, 0.25      +0.j, 0.2       +0.j, 0.16666667+0.j,\n",
       "         0.14285714+0.j, 0.125     +0.j],\n",
       "        [0.25      +0.j, 0.2       +0.j, 0.16666667+0.j, 0.14285714+0.j,\n",
       "         0.125     +0.j, 0.11111111+0.j],\n",
       "        [0.2       +0.j, 0.1666667 +0.j, 0.14285714+0.j, 0.125     +0.j,\n",
       "         0.11111111+0.j, 0.1       +0.j],\n",
       "        [0.1666667 +0.j, 0.1428571 +0.j, 0.125     +0.j, 0.11111111+0.j,\n",
       "         0.1       +0.j, 0.09090909+0.j],\n",
       "        [0.1428571 +0.j, 0.125     +0.j, 0.11111111+0.j, 0.1       +0.j,\n",
       "         0.09090909+0.j, 0.08333333+0.j],\n",
       "        [0.125     +0.j, 0.1111111 +0.j, 0.1       +0.j, 0.09090909+0.j,\n",
       "         0.08333333+0.j, 0.07692308+0.j],\n",
       "        [0.1111111 +0.j, 0.1       +0.j, 0.09090909+0.j, 0.08333333+0.j,\n",
       "         0.07692308+0.j, 0.07142857+0.j]])"
      ]
     },
     "execution_count": 15,
     "metadata": {},
     "output_type": "execute_result"
    }
   ],
   "source": [
    "X1"
   ]
  },
  {
   "cell_type": "code",
   "execution_count": 16,
   "metadata": {},
   "outputs": [
    {
     "data": {
      "text/plain": [
       "matrix([[-0.73649281],\n",
       "        [-0.62250017],\n",
       "        [-0.25500209],\n",
       "        [ 0.06976294],\n",
       "        [-0.01328249]])"
      ]
     },
     "execution_count": 16,
     "metadata": {},
     "output_type": "execute_result"
    }
   ],
   "source": [
    "vh[0:-1,0] #-0.7364928  0.6225002  0.2550021 -0.06976287  0.01328234 -0.001588146\n"
   ]
  },
  {
   "cell_type": "code",
   "execution_count": 17,
   "metadata": {},
   "outputs": [
    {
     "data": {
      "text/plain": [
       "(6, 6)"
      ]
     },
     "execution_count": 17,
     "metadata": {},
     "output_type": "execute_result"
    }
   ],
   "source": [
    "vh.shape"
   ]
  },
  {
   "cell_type": "code",
   "execution_count": 26,
   "metadata": {},
   "outputs": [
    {
     "name": "stdout",
     "output_type": "stream",
     "text": [
      "[[-0.73649281  0.62250017  0.25500209 -0.06976294]\n",
      " [-0.44328257 -0.18187048 -0.68668571  0.5086004 ]\n",
      " [-0.32747889 -0.35085532 -0.2611142  -0.50473377]\n",
      " [-0.26264688 -0.39217826  0.10435977 -0.43748338]\n",
      " [-0.22041988 -0.39456441  0.35096584  0.01612534]\n",
      " [-0.19044204 -0.3831871   0.51106561  0.5385637 ]]\n"
     ]
    }
   ],
   "source": [
    "vhneg = vh\n",
    "vhneg[:,0:] = vh[:,0:] * -1 #WTF\n",
    "vhneg[0,0:] = vhneg[0,0:]*-1 #WTF\n",
    "vht = vhneg.T\n",
    "loadings = vht[:, 0:4]\n",
    "print(loadings)\n",
    "\n",
    "#           [,1]       [,2]       [,3]        [,4]\n",
    "#[1,] -0.7364928  0.6225002  0.2550021 -0.06976287\n",
    "#[2,] -0.4432826 -0.1818705 -0.6866860  0.50860089\n",
    "#[3,] -0.3274789 -0.3508553 -0.2611139 -0.50473697\n",
    "#[4,] -0.2626469 -0.3921783  0.1043599 -0.43747940\n",
    "#[5,] -0.2204199 -0.3945644  0.3509658  0.01612426\n",
    "#[6,] -0.1904420 -0.3831871  0.5110654  0.53856351"
   ]
  },
  {
   "cell_type": "code",
   "execution_count": 27,
   "metadata": {},
   "outputs": [],
   "source": [
    "\n",
    "testr =  [[-1.2087798,  0.17379119,  0.006081880, -9.249069e-05],\n",
    " [-0.7143490, -0.03602464, -0.014297109,  5.970955e-04],\n",
    " [-0.5208823, -0.07776640, -0.007479098, -3.407889e-04],\n",
    " [-0.4135932, -0.08714730, -0.001541317, -4.845014e-04],\n",
    " [-0.3443279, -0.08711538,  0.002398508, -3.280291e-04],\n",
    " [-0.2955476, -0.08395538,  0.004915739, -9.807259e-05],\n",
    " [-0.2591832, -0.07980872,  0.006511230,  1.252964e-04],\n",
    " [-0.2309578, -0.07548971,  0.007512573,  3.179510e-04],\n",
    " [-0.2083772, -0.07131944,  0.008126046,  4.760136e-04]]"
   ]
  },
  {
   "cell_type": "code",
   "execution_count": 28,
   "metadata": {},
   "outputs": [
    {
     "data": {
      "text/plain": [
       "matrix([[-3.82332261e-08,  5.08122905e-10,  3.55845889e-09,\n",
       "         -1.04311037e-09],\n",
       "        [-9.14754272e-10, -4.47393395e-09, -1.91926260e-08,\n",
       "          8.59941418e-09],\n",
       "        [-1.02048410e-08,  2.45640497e-08,  1.18134301e-08,\n",
       "         -7.84127463e-09],\n",
       "        [ 2.70136118e-08,  2.09424623e-09,  3.82309726e-09,\n",
       "         -3.11457762e-09],\n",
       "        [-3.49581690e-08,  9.08273876e-09,  2.49350003e-08,\n",
       "         -2.04315057e-08],\n",
       "        [ 3.75119136e-08, -3.07800384e-08, -3.52158019e-08,\n",
       "          2.35101553e-08],\n",
       "        [-8.00774125e-08,  2.00592645e-08,  1.36828746e-08,\n",
       "         -1.44702314e-09],\n",
       "        [ 4.51103155e-09, -2.82984479e-09, -6.85298438e-09,\n",
       "          4.62240421e-09],\n",
       "        [ 9.44121969e-09,  4.26797546e-09,  3.70031155e-09,\n",
       "         -6.54588902e-10]])"
      ]
     },
     "execution_count": 28,
     "metadata": {},
     "output_type": "execute_result"
    }
   ],
   "source": [
    "scores = X @ loadings\n",
    "residuals = testr - scores\n",
    "residuals"
   ]
  },
  {
   "cell_type": "code",
   "execution_count": 29,
   "metadata": {},
   "outputs": [
    {
     "data": {
      "image/png": "[encoded data removed]",
      "text/plain": [
       "<Figure size 432x288 with 1 Axes>"
      ]
     },
     "metadata": {},
     "output_type": "display_data"
    }
   ],
   "source": [
    "import matplotlib.pyplot as plt\n",
    "plt.plot(residuals)\n",
    "plt.show()\n"
   ]
  },
  {
   "cell_type": "code",
   "execution_count": null,
   "metadata": {},
   "outputs": [],
   "source": []
  }
 ],
 "metadata": {
  "kernelspec": {
   "display_name": "Python 3",
   "language": "python",
   "name": "python3"
  },
  "language_info": {
   "codemirror_mode": {
    "name": "ipython",
    "version": 3
   },
   "file_extension": ".py",
   "mimetype": "text/x-python",
   "name": "python",
   "nbconvert_exporter": "python",
   "pygments_lexer": "ipython3",
   "version": "3.6.5"
  }
 },
 "nbformat": 4,
 "nbformat_minor": 2
}
